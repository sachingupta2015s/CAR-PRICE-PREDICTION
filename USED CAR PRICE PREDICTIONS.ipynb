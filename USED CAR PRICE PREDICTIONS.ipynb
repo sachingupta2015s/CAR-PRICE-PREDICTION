{
 "cells": [
  {
   "cell_type": "markdown",
   "metadata": {},
   "source": [
    "# USED CARS PREDICTIONS"
   ]
  },
  {
   "cell_type": "code",
   "execution_count": 2,
   "metadata": {},
   "outputs": [
    {
     "data": {
      "text/html": [
       "<img src=\"https://etimg.etb2bimg.com/photo/76468622.cms\"/>"
      ],
      "text/plain": [
       "<IPython.core.display.Image object>"
      ]
     },
     "execution_count": 2,
     "metadata": {},
     "output_type": "execute_result"
    }
   ],
   "source": [
    "from IPython.display import Image\n",
    "Image(url= \"https://etimg.etb2bimg.com/photo/76468622.cms\")"
   ]
  },
  {
   "cell_type": "markdown",
   "metadata": {},
   "source": [
    "# Introduction"
   ]
  },
  {
   "cell_type": "markdown",
   "metadata": {},
   "source": [
    "#### A car is a wheeled motor vehicle used for transportation. Most definitions of cars say that they run primarily on roads, seat one-to-eight people, have four wheels and mainly transport people rather than goods.\n",
    "#### Cars came into global use during the 20th century, and developed economies depend on them.\n",
    "#### Predicting the price of used cars in both an important and interesting problem.\n",
    "#### Sometimes selling your used car becomes crucial as we are not able to identify its fair price accurately. The depreciation of a car depends on a variety of factors so the car owner needs to be aware of the worth of their vehicle. With the rapid expansion of Machine Learning, this problem can also be solved by minimizing human efforts and time. \n",
    "#### Let’s see an end-to-end solution for a similar problem."
   ]
  },
  {
   "cell_type": "markdown",
   "metadata": {},
   "source": [
    "# Importing required packages"
   ]
  },
  {
   "cell_type": "markdown",
   "metadata": {},
   "source": [
    "#### My primary packages for this project are going to be pandas for data processing, NumPy to work with arrays, matplotlib & seaborn for data visualizations, and finally scikit-learn for building an evaluating our ML model.\n",
    "\n",
    "#### Let’s import all the required packages into our python environment."
   ]
  },
  {
   "cell_type": "code",
   "execution_count": 1,
   "metadata": {},
   "outputs": [],
   "source": [
    "# importing necessary libraries\n",
    "import pandas as pd\n",
    "import numpy as np\n",
    "import matplotlib.pyplot as plt\n",
    "import seaborn as sns\n",
    "from scipy.stats import zscore\n",
    "\n",
    "# preprocessing,normalizing\n",
    "from sklearn.preprocessing import LabelEncoder\n",
    "from sklearn.preprocessing import StandardScaler\n",
    "\n",
    "# for multicollinearity\n",
    "from statsmodels.stats.outliers_influence import variance_inflation_factor\n",
    "\n",
    "# models\n",
    "from sklearn.model_selection import train_test_split,RandomizedSearchCV\n",
    "from sklearn.linear_model import LinearRegression\n",
    "from sklearn.tree import DecisionTreeRegressor\n",
    "from sklearn.ensemble import RandomForestRegressor\n",
    "from sklearn.ensemble import AdaBoostRegressor\n",
    "from sklearn.linear_model import Lasso, LassoCV"
   ]
  },
  {
   "cell_type": "markdown",
   "metadata": {},
   "source": [
    "#### Above I am importing all the important Libraries in one go so that I can use these libraries to make good Model Prediction."
   ]
  },
  {
   "cell_type": "markdown",
   "metadata": {},
   "source": [
    "# Loading excel data"
   ]
  },
  {
   "cell_type": "markdown",
   "metadata": {},
   "source": [
    "#### Now I am going to upload or read the files/data-sets using pandas. For this I used read_xlsx method."
   ]
  },
  {
   "cell_type": "code",
   "execution_count": 2,
   "metadata": {},
   "outputs": [
    {
     "data": {
      "text/html": [
       "<div>\n",
       "<style scoped>\n",
       "    .dataframe tbody tr th:only-of-type {\n",
       "        vertical-align: middle;\n",
       "    }\n",
       "\n",
       "    .dataframe tbody tr th {\n",
       "        vertical-align: top;\n",
       "    }\n",
       "\n",
       "    .dataframe thead th {\n",
       "        text-align: right;\n",
       "    }\n",
       "</style>\n",
       "<table border=\"1\" class=\"dataframe\">\n",
       "  <thead>\n",
       "    <tr style=\"text-align: right;\">\n",
       "      <th></th>\n",
       "      <th>year</th>\n",
       "      <th>brand</th>\n",
       "      <th>cars_model</th>\n",
       "      <th>cars_variant</th>\n",
       "      <th>cars_km_driven</th>\n",
       "      <th>car_installment_price_permonth</th>\n",
       "      <th>cars_downpayment</th>\n",
       "      <th>car_price</th>\n",
       "    </tr>\n",
       "  </thead>\n",
       "  <tbody>\n",
       "    <tr>\n",
       "      <th>0</th>\n",
       "      <td>2015</td>\n",
       "      <td>Maruti Alto K10</td>\n",
       "      <td>VXI AMT Manual</td>\n",
       "      <td>Petrol</td>\n",
       "      <td>9013.0</td>\n",
       "      <td>7585.0</td>\n",
       "      <td>Zero downpayment</td>\n",
       "      <td>340999.0</td>\n",
       "    </tr>\n",
       "    <tr>\n",
       "      <th>1</th>\n",
       "      <td>2015</td>\n",
       "      <td>Hyundai Grand i10</td>\n",
       "      <td>ASTA 1.2 AT VTVT Automatic</td>\n",
       "      <td>Petrol</td>\n",
       "      <td>10438.0</td>\n",
       "      <td>10824.0</td>\n",
       "      <td>Zero downpayment</td>\n",
       "      <td>486599.0</td>\n",
       "    </tr>\n",
       "    <tr>\n",
       "      <th>2</th>\n",
       "      <td>2012</td>\n",
       "      <td>Maruti Wagon R 1.0</td>\n",
       "      <td>VXI Manual</td>\n",
       "      <td>Petrol</td>\n",
       "      <td>21852.0</td>\n",
       "      <td>5804.0</td>\n",
       "      <td>Zero downpayment</td>\n",
       "      <td>260899.0</td>\n",
       "    </tr>\n",
       "    <tr>\n",
       "      <th>3</th>\n",
       "      <td>2013</td>\n",
       "      <td>Maruti Wagon R 1.0</td>\n",
       "      <td>VXI Manual</td>\n",
       "      <td>Petrol</td>\n",
       "      <td>17781.0</td>\n",
       "      <td>6733.0</td>\n",
       "      <td>Zero downpayment</td>\n",
       "      <td>302699.0</td>\n",
       "    </tr>\n",
       "    <tr>\n",
       "      <th>4</th>\n",
       "      <td>2016</td>\n",
       "      <td>Maruti Wagon R 1.0</td>\n",
       "      <td>VXI AMT Automatic</td>\n",
       "      <td>Petrol</td>\n",
       "      <td>9520.0</td>\n",
       "      <td>8631.0</td>\n",
       "      <td>Zero downpayment</td>\n",
       "      <td>387999.0</td>\n",
       "    </tr>\n",
       "  </tbody>\n",
       "</table>\n",
       "</div>"
      ],
      "text/plain": [
       "   year               brand                  cars_model cars_variant  \\\n",
       "0  2015     Maruti Alto K10              VXI AMT Manual       Petrol   \n",
       "1  2015   Hyundai Grand i10  ASTA 1.2 AT VTVT Automatic       Petrol   \n",
       "2  2012  Maruti Wagon R 1.0                  VXI Manual       Petrol   \n",
       "3  2013  Maruti Wagon R 1.0                  VXI Manual       Petrol   \n",
       "4  2016  Maruti Wagon R 1.0           VXI AMT Automatic       Petrol   \n",
       "\n",
       "   cars_km_driven  car_installment_price_permonth  cars_downpayment  car_price  \n",
       "0          9013.0                          7585.0  Zero downpayment   340999.0  \n",
       "1         10438.0                         10824.0  Zero downpayment   486599.0  \n",
       "2         21852.0                          5804.0  Zero downpayment   260899.0  \n",
       "3         17781.0                          6733.0  Zero downpayment   302699.0  \n",
       "4          9520.0                          8631.0  Zero downpayment   387999.0  "
      ]
     },
     "execution_count": 2,
     "metadata": {},
     "output_type": "execute_result"
    }
   ],
   "source": [
    "df = pd.read_excel('webscrapping car price prediction.xlsx')\n",
    "df.head()"
   ]
  },
  {
   "cell_type": "code",
   "execution_count": 3,
   "metadata": {
    "scrolled": true
   },
   "outputs": [
    {
     "data": {
      "text/plain": [
       "(9521, 8)"
      ]
     },
     "execution_count": 3,
     "metadata": {},
     "output_type": "execute_result"
    }
   ],
   "source": [
    "df.shape"
   ]
  },
  {
   "cell_type": "markdown",
   "metadata": {},
   "source": [
    "#### There are 9521 rows and 8 columns in the dataset."
   ]
  },
  {
   "cell_type": "code",
   "execution_count": 4,
   "metadata": {
    "scrolled": true
   },
   "outputs": [
    {
     "name": "stdout",
     "output_type": "stream",
     "text": [
      "<class 'pandas.core.frame.DataFrame'>\n",
      "RangeIndex: 9521 entries, 0 to 9520\n",
      "Data columns (total 8 columns):\n",
      " #   Column                          Non-Null Count  Dtype  \n",
      "---  ------                          --------------  -----  \n",
      " 0   year                            9521 non-null   object \n",
      " 1   brand                           9521 non-null   object \n",
      " 2   cars_model                      9518 non-null   object \n",
      " 3   cars_variant                    9518 non-null   object \n",
      " 4   cars_km_driven                  9515 non-null   float64\n",
      " 5   car_installment_price_permonth  9512 non-null   float64\n",
      " 6   cars_downpayment                9512 non-null   object \n",
      " 7   car_price                       9512 non-null   float64\n",
      "dtypes: float64(3), object(5)\n",
      "memory usage: 595.2+ KB\n"
     ]
    }
   ],
   "source": [
    "pd.set_option('display.max_rows',None)\n",
    "df.info()"
   ]
  },
  {
   "cell_type": "markdown",
   "metadata": {},
   "source": [
    "#### There are missing values in the dataset which i will fixed it soon.\n",
    "#### It is a mixed dataset as 3 columns are of float type and 5 are object type."
   ]
  },
  {
   "cell_type": "code",
   "execution_count": 5,
   "metadata": {},
   "outputs": [
    {
     "data": {
      "text/plain": [
       "(9521, 8)"
      ]
     },
     "execution_count": 5,
     "metadata": {},
     "output_type": "execute_result"
    }
   ],
   "source": [
    "# drop duplicates\n",
    "df.drop_duplicates()\n",
    "df.shape"
   ]
  },
  {
   "cell_type": "markdown",
   "metadata": {},
   "source": [
    "#### There are no duplicates in the dataset."
   ]
  },
  {
   "cell_type": "code",
   "execution_count": 6,
   "metadata": {
    "scrolled": true
   },
   "outputs": [
    {
     "data": {
      "text/plain": [
       "year                                18\n",
       "brand                              151\n",
       "cars_model                         790\n",
       "cars_variant                         8\n",
       "cars_km_driven                    4111\n",
       "car_installment_price_permonth    3137\n",
       "cars_downpayment                     1\n",
       "car_price                         3256\n",
       "dtype: int64"
      ]
     },
     "execution_count": 6,
     "metadata": {},
     "output_type": "execute_result"
    }
   ],
   "source": [
    "# checking continous and categorical columns\n",
    "df.nunique()"
   ]
  },
  {
   "cell_type": "markdown",
   "metadata": {},
   "source": [
    "#### There are 3 categorical columns and 5 continuous  columns."
   ]
  },
  {
   "cell_type": "code",
   "execution_count": 7,
   "metadata": {
    "scrolled": true
   },
   "outputs": [
    {
     "data": {
      "text/html": [
       "<div>\n",
       "<style scoped>\n",
       "    .dataframe tbody tr th:only-of-type {\n",
       "        vertical-align: middle;\n",
       "    }\n",
       "\n",
       "    .dataframe tbody tr th {\n",
       "        vertical-align: top;\n",
       "    }\n",
       "\n",
       "    .dataframe thead th {\n",
       "        text-align: right;\n",
       "    }\n",
       "</style>\n",
       "<table border=\"1\" class=\"dataframe\">\n",
       "  <thead>\n",
       "    <tr style=\"text-align: right;\">\n",
       "      <th></th>\n",
       "      <th>year</th>\n",
       "      <th>brand</th>\n",
       "      <th>cars_model</th>\n",
       "      <th>cars_variant</th>\n",
       "      <th>cars_km_driven</th>\n",
       "      <th>car_installment_price_permonth</th>\n",
       "      <th>cars_downpayment</th>\n",
       "      <th>car_price</th>\n",
       "    </tr>\n",
       "  </thead>\n",
       "  <tbody>\n",
       "    <tr>\n",
       "      <th>count</th>\n",
       "      <td>9521.0</td>\n",
       "      <td>9521</td>\n",
       "      <td>9518</td>\n",
       "      <td>9518</td>\n",
       "      <td>9515.000000</td>\n",
       "      <td>9512.000000</td>\n",
       "      <td>9512</td>\n",
       "      <td>9.512000e+03</td>\n",
       "    </tr>\n",
       "    <tr>\n",
       "      <th>unique</th>\n",
       "      <td>18.0</td>\n",
       "      <td>151</td>\n",
       "      <td>790</td>\n",
       "      <td>8</td>\n",
       "      <td>NaN</td>\n",
       "      <td>NaN</td>\n",
       "      <td>1</td>\n",
       "      <td>NaN</td>\n",
       "    </tr>\n",
       "    <tr>\n",
       "      <th>top</th>\n",
       "      <td>2015.0</td>\n",
       "      <td>Maruti Swift</td>\n",
       "      <td>VXI Manual</td>\n",
       "      <td>Petrol</td>\n",
       "      <td>NaN</td>\n",
       "      <td>NaN</td>\n",
       "      <td>Zero downpayment</td>\n",
       "      <td>NaN</td>\n",
       "    </tr>\n",
       "    <tr>\n",
       "      <th>freq</th>\n",
       "      <td>1230.0</td>\n",
       "      <td>930</td>\n",
       "      <td>771</td>\n",
       "      <td>5173</td>\n",
       "      <td>NaN</td>\n",
       "      <td>NaN</td>\n",
       "      <td>9512</td>\n",
       "      <td>NaN</td>\n",
       "    </tr>\n",
       "    <tr>\n",
       "      <th>mean</th>\n",
       "      <td>NaN</td>\n",
       "      <td>NaN</td>\n",
       "      <td>NaN</td>\n",
       "      <td>NaN</td>\n",
       "      <td>62453.912244</td>\n",
       "      <td>11069.280172</td>\n",
       "      <td>NaN</td>\n",
       "      <td>4.976202e+05</td>\n",
       "    </tr>\n",
       "    <tr>\n",
       "      <th>std</th>\n",
       "      <td>NaN</td>\n",
       "      <td>NaN</td>\n",
       "      <td>NaN</td>\n",
       "      <td>NaN</td>\n",
       "      <td>41605.461401</td>\n",
       "      <td>7062.559942</td>\n",
       "      <td>NaN</td>\n",
       "      <td>3.174976e+05</td>\n",
       "    </tr>\n",
       "    <tr>\n",
       "      <th>min</th>\n",
       "      <td>NaN</td>\n",
       "      <td>NaN</td>\n",
       "      <td>NaN</td>\n",
       "      <td>NaN</td>\n",
       "      <td>23.000000</td>\n",
       "      <td>1602.000000</td>\n",
       "      <td>NaN</td>\n",
       "      <td>7.200000e+04</td>\n",
       "    </tr>\n",
       "    <tr>\n",
       "      <th>25%</th>\n",
       "      <td>NaN</td>\n",
       "      <td>NaN</td>\n",
       "      <td>NaN</td>\n",
       "      <td>NaN</td>\n",
       "      <td>32720.500000</td>\n",
       "      <td>6589.000000</td>\n",
       "      <td>NaN</td>\n",
       "      <td>2.961990e+05</td>\n",
       "    </tr>\n",
       "    <tr>\n",
       "      <th>50%</th>\n",
       "      <td>NaN</td>\n",
       "      <td>NaN</td>\n",
       "      <td>NaN</td>\n",
       "      <td>NaN</td>\n",
       "      <td>57489.000000</td>\n",
       "      <td>9091.000000</td>\n",
       "      <td>NaN</td>\n",
       "      <td>4.086990e+05</td>\n",
       "    </tr>\n",
       "    <tr>\n",
       "      <th>75%</th>\n",
       "      <td>NaN</td>\n",
       "      <td>NaN</td>\n",
       "      <td>NaN</td>\n",
       "      <td>NaN</td>\n",
       "      <td>84088.000000</td>\n",
       "      <td>13371.000000</td>\n",
       "      <td>NaN</td>\n",
       "      <td>6.010990e+05</td>\n",
       "    </tr>\n",
       "    <tr>\n",
       "      <th>max</th>\n",
       "      <td>NaN</td>\n",
       "      <td>NaN</td>\n",
       "      <td>NaN</td>\n",
       "      <td>NaN</td>\n",
       "      <td>912380.000000</td>\n",
       "      <td>89868.000000</td>\n",
       "      <td>NaN</td>\n",
       "      <td>4.040000e+06</td>\n",
       "    </tr>\n",
       "  </tbody>\n",
       "</table>\n",
       "</div>"
      ],
      "text/plain": [
       "          year         brand  cars_model cars_variant  cars_km_driven  \\\n",
       "count   9521.0          9521        9518         9518     9515.000000   \n",
       "unique    18.0           151         790            8             NaN   \n",
       "top     2015.0  Maruti Swift  VXI Manual       Petrol             NaN   \n",
       "freq    1230.0           930         771         5173             NaN   \n",
       "mean       NaN           NaN         NaN          NaN    62453.912244   \n",
       "std        NaN           NaN         NaN          NaN    41605.461401   \n",
       "min        NaN           NaN         NaN          NaN       23.000000   \n",
       "25%        NaN           NaN         NaN          NaN    32720.500000   \n",
       "50%        NaN           NaN         NaN          NaN    57489.000000   \n",
       "75%        NaN           NaN         NaN          NaN    84088.000000   \n",
       "max        NaN           NaN         NaN          NaN   912380.000000   \n",
       "\n",
       "        car_installment_price_permonth  cars_downpayment     car_price  \n",
       "count                      9512.000000              9512  9.512000e+03  \n",
       "unique                             NaN                 1           NaN  \n",
       "top                                NaN  Zero downpayment           NaN  \n",
       "freq                               NaN              9512           NaN  \n",
       "mean                      11069.280172               NaN  4.976202e+05  \n",
       "std                        7062.559942               NaN  3.174976e+05  \n",
       "min                        1602.000000               NaN  7.200000e+04  \n",
       "25%                        6589.000000               NaN  2.961990e+05  \n",
       "50%                        9091.000000               NaN  4.086990e+05  \n",
       "75%                       13371.000000               NaN  6.010990e+05  \n",
       "max                       89868.000000               NaN  4.040000e+06  "
      ]
     },
     "execution_count": 7,
     "metadata": {},
     "output_type": "execute_result"
    }
   ],
   "source": [
    "df.describe(include='all')"
   ]
  },
  {
   "cell_type": "markdown",
   "metadata": {},
   "source": [
    "#### Above statistics  data show that there are few outliers in this dataset. \n",
    "#### There is also difference between mean and 50% value in some of the columns which used to get fix for better prediction.\n",
    "#### Also, number of rows in each column are not same, means there are null values in the data set.\n",
    "#### Also, the mean and 50% value of most of the column are not same and the STD and mean have a major difference  to each other."
   ]
  },
  {
   "cell_type": "markdown",
   "metadata": {},
   "source": [
    "## Checking the null values"
   ]
  },
  {
   "cell_type": "code",
   "execution_count": 8,
   "metadata": {
    "scrolled": false
   },
   "outputs": [
    {
     "data": {
      "text/plain": [
       "year                              0\n",
       "brand                             0\n",
       "cars_model                        3\n",
       "cars_variant                      3\n",
       "cars_km_driven                    6\n",
       "car_installment_price_permonth    9\n",
       "cars_downpayment                  9\n",
       "car_price                         9\n",
       "dtype: int64"
      ]
     },
     "execution_count": 8,
     "metadata": {},
     "output_type": "execute_result"
    }
   ],
   "source": [
    "df.isnull().sum()"
   ]
  },
  {
   "cell_type": "markdown",
   "metadata": {},
   "source": [
    "#### There are missing values few columns"
   ]
  },
  {
   "cell_type": "code",
   "execution_count": 9,
   "metadata": {},
   "outputs": [],
   "source": [
    "df = df.dropna()"
   ]
  },
  {
   "cell_type": "markdown",
   "metadata": {},
   "source": [
    "#### I am using dropna function to drop those columns which have null values."
   ]
  },
  {
   "cell_type": "code",
   "execution_count": 10,
   "metadata": {
    "scrolled": false
   },
   "outputs": [
    {
     "data": {
      "text/plain": [
       "year                              0\n",
       "brand                             0\n",
       "cars_model                        0\n",
       "cars_variant                      0\n",
       "cars_km_driven                    0\n",
       "car_installment_price_permonth    0\n",
       "cars_downpayment                  0\n",
       "car_price                         0\n",
       "dtype: int64"
      ]
     },
     "execution_count": 10,
     "metadata": {},
     "output_type": "execute_result"
    }
   ],
   "source": [
    "df.isnull().sum()"
   ]
  },
  {
   "cell_type": "markdown",
   "metadata": {},
   "source": [
    "#### After using null values there are no null values."
   ]
  },
  {
   "cell_type": "markdown",
   "metadata": {},
   "source": [
    "# Exploratory Data Analysis"
   ]
  },
  {
   "cell_type": "markdown",
   "metadata": {},
   "source": [
    "### Catplot"
   ]
  },
  {
   "cell_type": "markdown",
   "metadata": {},
   "source": [
    "#### I start off with catplot () function and use x argument to specify the axis we want to show the categories. \n",
    "#### Another popular choice for plotting categorical data is a bar plot. In the count plot example, our plot only needed a single variable. \n",
    "#### In the bar plot, we often use one categorical variable and one quantitative.\n",
    "#### Description cat_plot is a complementary function to interact_plot () that is designed for plotting interactions when both predictor and moderator (s) are categorical (or, in python terms, factors)."
   ]
  },
  {
   "cell_type": "markdown",
   "metadata": {},
   "source": [
    "### Year"
   ]
  },
  {
   "cell_type": "code",
   "execution_count": 12,
   "metadata": {},
   "outputs": [
    {
     "data": {
      "text/plain": [
       "2015    1230\n",
       "2014    1130\n",
       "2013    1090\n",
       "2017    1086\n",
       "2016    1009\n",
       "2018    1005\n",
       "2012     891\n",
       "2019     626\n",
       "2011     388\n",
       "2010     370\n",
       "2020     321\n",
       "2009     200\n",
       "2008     111\n",
       "2021      28\n",
       "2007      27\n",
       "Name: year, dtype: int64"
      ]
     },
     "execution_count": 12,
     "metadata": {},
     "output_type": "execute_result"
    }
   ],
   "source": [
    "df[\"year\"].value_counts()"
   ]
  },
  {
   "cell_type": "code",
   "execution_count": 13,
   "metadata": {
    "scrolled": true
   },
   "outputs": [
    {
     "data": {
      "image/png": "[encoded data removed]",
      "text/plain": [
       "<Figure size 1296x432 with 1 Axes>"
      ]
     },
     "metadata": {
      "needs_background": "light"
     },
     "output_type": "display_data"
    }
   ],
   "source": [
    "# year vs car_price\n",
    "sns.catplot(y=\"car_price\",x=\"year\",data=df.sort_values(\"car_price\",ascending=False),kind=\"boxen\",height=6,aspect=3)\n",
    "plt.show()"
   ]
  },
  {
   "cell_type": "markdown",
   "metadata": {},
   "source": [
    "#### From the above cat plot i can say that 2021 car brand have highest car price and remaining years cars values are less than 2021."
   ]
  },
  {
   "cell_type": "markdown",
   "metadata": {},
   "source": [
    "## cars_variant"
   ]
  },
  {
   "cell_type": "code",
   "execution_count": 14,
   "metadata": {
    "scrolled": false
   },
   "outputs": [
    {
     "data": {
      "text/plain": [
       "Petrol                   5173\n",
       "Diesel                   3974\n",
       "Petrol + CNG              350\n",
       "h Owner\\nDiesel             6\n",
       "h Owner\\nPetrol             6\n",
       "h Owner\\nPetrol + CNG       3\n",
       "Name: cars_variant, dtype: int64"
      ]
     },
     "execution_count": 14,
     "metadata": {},
     "output_type": "execute_result"
    }
   ],
   "source": [
    "df['cars_variant'].value_counts()"
   ]
  },
  {
   "cell_type": "code",
   "execution_count": 15,
   "metadata": {},
   "outputs": [],
   "source": [
    "df['cars_variant'] = df['cars_variant'].str.replace('h Owner\\nPetrol + CNG','Petrol')\n",
    "df['cars_variant'] = df['cars_variant'].str.replace('h Owner\\nPetrol','Petrol')\n",
    "df['cars_variant'] = df['cars_variant'].str.replace('h Owner\\nDiesel','Diesel')"
   ]
  },
  {
   "cell_type": "code",
   "execution_count": 16,
   "metadata": {
    "scrolled": true
   },
   "outputs": [
    {
     "data": {
      "text/plain": [
       "Petrol          5179\n",
       "Diesel          3980\n",
       "Petrol + CNG     353\n",
       "Name: cars_variant, dtype: int64"
      ]
     },
     "execution_count": 16,
     "metadata": {},
     "output_type": "execute_result"
    }
   ],
   "source": [
    "df['cars_variant'].value_counts()"
   ]
  },
  {
   "cell_type": "code",
   "execution_count": 18,
   "metadata": {
    "scrolled": false
   },
   "outputs": [
    {
     "data": {
      "image/png": "[encoded data removed]",
      "text/plain": [
       "<Figure size 648x216 with 1 Axes>"
      ]
     },
     "metadata": {
      "needs_background": "light"
     },
     "output_type": "display_data"
    }
   ],
   "source": [
    "sns.catplot(y=\"car_price\",x=\"cars_variant\",data=df.sort_values(\"car_price\",ascending=False),kind=\"boxen\",aspect=3,height=3)\n",
    "plt.show()"
   ]
  },
  {
   "cell_type": "markdown",
   "metadata": {},
   "source": [
    "#### In above cat plot i can say that diesel used car prices are more as compare to petrol and cng.\n",
    "#### In India diesel car are more preferable to purchase for an individual."
   ]
  },
  {
   "cell_type": "markdown",
   "metadata": {},
   "source": [
    "## cars_downpayment"
   ]
  },
  {
   "cell_type": "code",
   "execution_count": 19,
   "metadata": {},
   "outputs": [
    {
     "data": {
      "text/plain": [
       "Zero downpayment    9512\n",
       "Name: cars_downpayment, dtype: int64"
      ]
     },
     "execution_count": 19,
     "metadata": {},
     "output_type": "execute_result"
    }
   ],
   "source": [
    "df['cars_downpayment'].value_counts()"
   ]
  },
  {
   "cell_type": "code",
   "execution_count": 20,
   "metadata": {
    "scrolled": true
   },
   "outputs": [
    {
     "data": {
      "image/png": "[encoded data removed]",
      "text/plain": [
       "<Figure size 648x216 with 1 Axes>"
      ]
     },
     "metadata": {
      "needs_background": "light"
     },
     "output_type": "display_data"
    }
   ],
   "source": [
    "# selling_price vs cars_downpayment\n",
    "sns.catplot(y=\"car_price\",x=\"cars_downpayment\",data=df.sort_values(\"car_price\",ascending=False),kind=\"boxen\",aspect=3,height=3)\n",
    "plt.show()"
   ]
  },
  {
   "cell_type": "markdown",
   "metadata": {},
   "source": [
    "#### From the above cat plot I can analyze that most of the used cars are purchased in zero downpayment."
   ]
  },
  {
   "cell_type": "code",
   "execution_count": 11,
   "metadata": {},
   "outputs": [
    {
     "data": {
      "text/html": [
       "<div>\n",
       "<style scoped>\n",
       "    .dataframe tbody tr th:only-of-type {\n",
       "        vertical-align: middle;\n",
       "    }\n",
       "\n",
       "    .dataframe tbody tr th {\n",
       "        vertical-align: top;\n",
       "    }\n",
       "\n",
       "    .dataframe thead th {\n",
       "        text-align: right;\n",
       "    }\n",
       "</style>\n",
       "<table border=\"1\" class=\"dataframe\">\n",
       "  <thead>\n",
       "    <tr style=\"text-align: right;\">\n",
       "      <th></th>\n",
       "      <th>year</th>\n",
       "      <th>brand</th>\n",
       "      <th>cars_model</th>\n",
       "      <th>cars_variant</th>\n",
       "      <th>cars_km_driven</th>\n",
       "      <th>car_installment_price_permonth</th>\n",
       "      <th>cars_downpayment</th>\n",
       "      <th>car_price</th>\n",
       "    </tr>\n",
       "  </thead>\n",
       "  <tbody>\n",
       "    <tr>\n",
       "      <th>0</th>\n",
       "      <td>2015</td>\n",
       "      <td>Maruti Alto K10</td>\n",
       "      <td>VXI AMT Manual</td>\n",
       "      <td>Petrol</td>\n",
       "      <td>9013.0</td>\n",
       "      <td>7585.0</td>\n",
       "      <td>Zero downpayment</td>\n",
       "      <td>340999.0</td>\n",
       "    </tr>\n",
       "    <tr>\n",
       "      <th>1</th>\n",
       "      <td>2015</td>\n",
       "      <td>Hyundai Grand i10</td>\n",
       "      <td>ASTA 1.2 AT VTVT Automatic</td>\n",
       "      <td>Petrol</td>\n",
       "      <td>10438.0</td>\n",
       "      <td>10824.0</td>\n",
       "      <td>Zero downpayment</td>\n",
       "      <td>486599.0</td>\n",
       "    </tr>\n",
       "    <tr>\n",
       "      <th>2</th>\n",
       "      <td>2012</td>\n",
       "      <td>Maruti Wagon R 1.0</td>\n",
       "      <td>VXI Manual</td>\n",
       "      <td>Petrol</td>\n",
       "      <td>21852.0</td>\n",
       "      <td>5804.0</td>\n",
       "      <td>Zero downpayment</td>\n",
       "      <td>260899.0</td>\n",
       "    </tr>\n",
       "    <tr>\n",
       "      <th>3</th>\n",
       "      <td>2013</td>\n",
       "      <td>Maruti Wagon R 1.0</td>\n",
       "      <td>VXI Manual</td>\n",
       "      <td>Petrol</td>\n",
       "      <td>17781.0</td>\n",
       "      <td>6733.0</td>\n",
       "      <td>Zero downpayment</td>\n",
       "      <td>302699.0</td>\n",
       "    </tr>\n",
       "    <tr>\n",
       "      <th>4</th>\n",
       "      <td>2016</td>\n",
       "      <td>Maruti Wagon R 1.0</td>\n",
       "      <td>VXI AMT Automatic</td>\n",
       "      <td>Petrol</td>\n",
       "      <td>9520.0</td>\n",
       "      <td>8631.0</td>\n",
       "      <td>Zero downpayment</td>\n",
       "      <td>387999.0</td>\n",
       "    </tr>\n",
       "  </tbody>\n",
       "</table>\n",
       "</div>"
      ],
      "text/plain": [
       "   year               brand                  cars_model cars_variant  \\\n",
       "0  2015     Maruti Alto K10              VXI AMT Manual       Petrol   \n",
       "1  2015   Hyundai Grand i10  ASTA 1.2 AT VTVT Automatic       Petrol   \n",
       "2  2012  Maruti Wagon R 1.0                  VXI Manual       Petrol   \n",
       "3  2013  Maruti Wagon R 1.0                  VXI Manual       Petrol   \n",
       "4  2016  Maruti Wagon R 1.0           VXI AMT Automatic       Petrol   \n",
       "\n",
       "   cars_km_driven  car_installment_price_permonth  cars_downpayment  car_price  \n",
       "0          9013.0                          7585.0  Zero downpayment   340999.0  \n",
       "1         10438.0                         10824.0  Zero downpayment   486599.0  \n",
       "2         21852.0                          5804.0  Zero downpayment   260899.0  \n",
       "3         17781.0                          6733.0  Zero downpayment   302699.0  \n",
       "4          9520.0                          8631.0  Zero downpayment   387999.0  "
      ]
     },
     "execution_count": 11,
     "metadata": {},
     "output_type": "execute_result"
    }
   ],
   "source": [
    "df.head()"
   ]
  },
  {
   "cell_type": "markdown",
   "metadata": {},
   "source": [
    "## Label Encoder"
   ]
  },
  {
   "cell_type": "markdown",
   "metadata": {},
   "source": [
    "#### Label Encoding is very simple approach and it involves converting each value in a column to a number.\n",
    "#### Consider a dataset of used cars having a column names cars_variant,year,cars_variant and cars_downpayment having below values.\n",
    "#### In data science, it is an important step, so I really encourage you to follow ideas in mind when dealing with categorical variables."
   ]
  },
  {
   "cell_type": "code",
   "execution_count": 12,
   "metadata": {},
   "outputs": [],
   "source": [
    "le = LabelEncoder()\n",
    "df.brand = le.fit_transform(df.brand)\n",
    "df.cars_model = le.fit_transform(df.cars_model)\n",
    "df.cars_variant = le.fit_transform(df.cars_variant)\n",
    "df.cars_downpayment = le.fit_transform(df.cars_downpayment)"
   ]
  },
  {
   "cell_type": "code",
   "execution_count": 13,
   "metadata": {
    "scrolled": true
   },
   "outputs": [
    {
     "data": {
      "text/html": [
       "<div>\n",
       "<style scoped>\n",
       "    .dataframe tbody tr th:only-of-type {\n",
       "        vertical-align: middle;\n",
       "    }\n",
       "\n",
       "    .dataframe tbody tr th {\n",
       "        vertical-align: top;\n",
       "    }\n",
       "\n",
       "    .dataframe thead th {\n",
       "        text-align: right;\n",
       "    }\n",
       "</style>\n",
       "<table border=\"1\" class=\"dataframe\">\n",
       "  <thead>\n",
       "    <tr style=\"text-align: right;\">\n",
       "      <th></th>\n",
       "      <th>brand</th>\n",
       "      <th>cars_model</th>\n",
       "      <th>cars_variant</th>\n",
       "      <th>cars_km_driven</th>\n",
       "      <th>car_installment_price_permonth</th>\n",
       "      <th>cars_downpayment</th>\n",
       "      <th>car_price</th>\n",
       "    </tr>\n",
       "  </thead>\n",
       "  <tbody>\n",
       "    <tr>\n",
       "      <th>count</th>\n",
       "      <td>9512.000000</td>\n",
       "      <td>9512.000000</td>\n",
       "      <td>9512.000000</td>\n",
       "      <td>9512.000000</td>\n",
       "      <td>9512.000000</td>\n",
       "      <td>9512.0</td>\n",
       "      <td>9.512000e+03</td>\n",
       "    </tr>\n",
       "    <tr>\n",
       "      <th>mean</th>\n",
       "      <td>76.757675</td>\n",
       "      <td>461.367325</td>\n",
       "      <td>0.623423</td>\n",
       "      <td>62443.502418</td>\n",
       "      <td>11069.280172</td>\n",
       "      <td>0.0</td>\n",
       "      <td>4.976202e+05</td>\n",
       "    </tr>\n",
       "    <tr>\n",
       "      <th>std</th>\n",
       "      <td>34.020741</td>\n",
       "      <td>203.946181</td>\n",
       "      <td>0.571012</td>\n",
       "      <td>41606.822773</td>\n",
       "      <td>7062.559942</td>\n",
       "      <td>0.0</td>\n",
       "      <td>3.174976e+05</td>\n",
       "    </tr>\n",
       "    <tr>\n",
       "      <th>min</th>\n",
       "      <td>0.000000</td>\n",
       "      <td>0.000000</td>\n",
       "      <td>0.000000</td>\n",
       "      <td>23.000000</td>\n",
       "      <td>1602.000000</td>\n",
       "      <td>0.0</td>\n",
       "      <td>7.200000e+04</td>\n",
       "    </tr>\n",
       "    <tr>\n",
       "      <th>25%</th>\n",
       "      <td>47.000000</td>\n",
       "      <td>315.000000</td>\n",
       "      <td>0.000000</td>\n",
       "      <td>32716.750000</td>\n",
       "      <td>6589.000000</td>\n",
       "      <td>0.0</td>\n",
       "      <td>2.961990e+05</td>\n",
       "    </tr>\n",
       "    <tr>\n",
       "      <th>50%</th>\n",
       "      <td>79.000000</td>\n",
       "      <td>465.000000</td>\n",
       "      <td>1.000000</td>\n",
       "      <td>57489.000000</td>\n",
       "      <td>9091.000000</td>\n",
       "      <td>0.0</td>\n",
       "      <td>4.086990e+05</td>\n",
       "    </tr>\n",
       "    <tr>\n",
       "      <th>75%</th>\n",
       "      <td>94.000000</td>\n",
       "      <td>622.000000</td>\n",
       "      <td>1.000000</td>\n",
       "      <td>84046.750000</td>\n",
       "      <td>13371.000000</td>\n",
       "      <td>0.0</td>\n",
       "      <td>6.010990e+05</td>\n",
       "    </tr>\n",
       "    <tr>\n",
       "      <th>max</th>\n",
       "      <td>148.000000</td>\n",
       "      <td>785.000000</td>\n",
       "      <td>5.000000</td>\n",
       "      <td>912380.000000</td>\n",
       "      <td>89868.000000</td>\n",
       "      <td>0.0</td>\n",
       "      <td>4.040000e+06</td>\n",
       "    </tr>\n",
       "  </tbody>\n",
       "</table>\n",
       "</div>"
      ],
      "text/plain": [
       "             brand   cars_model  cars_variant  cars_km_driven  \\\n",
       "count  9512.000000  9512.000000   9512.000000     9512.000000   \n",
       "mean     76.757675   461.367325      0.623423    62443.502418   \n",
       "std      34.020741   203.946181      0.571012    41606.822773   \n",
       "min       0.000000     0.000000      0.000000       23.000000   \n",
       "25%      47.000000   315.000000      0.000000    32716.750000   \n",
       "50%      79.000000   465.000000      1.000000    57489.000000   \n",
       "75%      94.000000   622.000000      1.000000    84046.750000   \n",
       "max     148.000000   785.000000      5.000000   912380.000000   \n",
       "\n",
       "       car_installment_price_permonth  cars_downpayment     car_price  \n",
       "count                     9512.000000            9512.0  9.512000e+03  \n",
       "mean                     11069.280172               0.0  4.976202e+05  \n",
       "std                       7062.559942               0.0  3.174976e+05  \n",
       "min                       1602.000000               0.0  7.200000e+04  \n",
       "25%                       6589.000000               0.0  2.961990e+05  \n",
       "50%                       9091.000000               0.0  4.086990e+05  \n",
       "75%                      13371.000000               0.0  6.010990e+05  \n",
       "max                      89868.000000               0.0  4.040000e+06  "
      ]
     },
     "execution_count": 13,
     "metadata": {},
     "output_type": "execute_result"
    }
   ],
   "source": [
    "df.describe()"
   ]
  },
  {
   "cell_type": "markdown",
   "metadata": {},
   "source": [
    "#### After using label encoding in this dataset I use describe function to understand the dataset perfectly."
   ]
  },
  {
   "cell_type": "markdown",
   "metadata": {},
   "source": [
    "## Scatter Plot"
   ]
  },
  {
   "cell_type": "markdown",
   "metadata": {},
   "source": [
    "#### Scatter plots are the graphs that present the relationship between two variables in a data-set.\n",
    "#### It represents data points on a two-dimensional plane or on a Cartesian system. \n",
    "#### The independent variable or attribute is plotted on the X-axis, while the dependent variable is plotted on the Y-axis. \n",
    "#### These plots are often called scatter graphs or scatter diagrams.\n",
    "#### Scatter plots are used in either of the following situations:\n",
    "##### a) When I have paired numerical data,\n",
    "##### b) When there are multiple values of the dependent variable for a unique value of an independent variable,\n",
    "##### c) In determining the relationship between variables in some scenarios, such as identifying potential root causes of problems, \n",
    "##### checking whether two products that appear to be related both occur with the exact cause and so on.\n",
    "\n"
   ]
  },
  {
   "cell_type": "code",
   "execution_count": 14,
   "metadata": {},
   "outputs": [
    {
     "data": {
      "image/png": "[encoded data removed]",
      "text/plain": [
       "<Figure size 432x288 with 4 Axes>"
      ]
     },
     "metadata": {
      "needs_background": "light"
     },
     "output_type": "display_data"
    }
   ],
   "source": [
    "fig,axs = plt.subplots(1,4,sharey = True)\n",
    "df.plot(kind='scatter',x='brand',y='car_price',ax=axs[0])\n",
    "df.plot(kind='scatter',x='cars_model',y='car_price',ax=axs[1])\n",
    "df.plot(kind='scatter',x='cars_km_driven',y='car_price',ax=axs[2])\n",
    "df.plot(kind='scatter',x='car_installment_price_permonth',y='car_price',ax=axs[3])\n",
    "fig.savefig('testdata.jpg')"
   ]
  },
  {
   "cell_type": "markdown",
   "metadata": {},
   "source": [
    "#### By analysing  scatter plot I can determine that continuous  columns has important relationship in used cars and prices."
   ]
  },
  {
   "cell_type": "markdown",
   "metadata": {},
   "source": [
    "## Histogram Plot"
   ]
  },
  {
   "cell_type": "markdown",
   "metadata": {},
   "source": [
    "#### Histograms group the data in bins and is the fastest way to get idea about the distribution of each attribute in dataset.\n",
    "##### THe following are some of the characteristics of histograms:\n",
    "##### a)provides us a count of the number of observations in each bin created for visualization.\n",
    "##### b)From the shape of the bin, I can easily observe the distribution i.e. weather it is Gaussian, skewed or exponential.\n",
    "##### Histograms also help us to see possible outliers."
   ]
  },
  {
   "cell_type": "code",
   "execution_count": 30,
   "metadata": {},
   "outputs": [
    {
     "data": {
      "text/plain": [
       "array([[<AxesSubplot:title={'center':'brand'}>,\n",
       "        <AxesSubplot:title={'center':'cars_model'}>],\n",
       "       [<AxesSubplot:title={'center':'cars_variant'}>,\n",
       "        <AxesSubplot:title={'center':'cars_km_driven'}>],\n",
       "       [<AxesSubplot:title={'center':'car_installment_price_permonth'}>,\n",
       "        <AxesSubplot:title={'center':'cars_downpayment'}>],\n",
       "       [<AxesSubplot:title={'center':'car_price'}>, <AxesSubplot:>],\n",
       "       [<AxesSubplot:>, <AxesSubplot:>],\n",
       "       [<AxesSubplot:>, <AxesSubplot:>]], dtype=object)"
      ]
     },
     "execution_count": 30,
     "metadata": {},
     "output_type": "execute_result"
    },
    {
     "data": {
      "image/png": "[encoded data removed]",
      "text/plain": [
       "<Figure size 1440x1440 with 12 Axes>"
      ]
     },
     "metadata": {
      "needs_background": "light"
     },
     "output_type": "display_data"
    }
   ],
   "source": [
    "df.hist(figsize=(20,20),grid=True,layout=(6,2),bins=30)"
   ]
  },
  {
   "cell_type": "markdown",
   "metadata": {},
   "source": [
    "#### The above output shows that it created the histogram for each attribute in the dataset. \n",
    "#### From this, I can observe that perhaps car_price, cars_downpyment, car_installment_price_permonth,cars_km_driven and cars_variant attribute may have exponential distribution while brand and cars_model have Gaussian distribution."
   ]
  },
  {
   "cell_type": "markdown",
   "metadata": {},
   "source": [
    "## Box Plot"
   ]
  },
  {
   "cell_type": "markdown",
   "metadata": {},
   "source": [
    "#### In the box plot, a box is created from the first quartile to the third quartile, a vertical line is also there which goes through the box at the median. \n",
    "#### Here x-axis denotes the data to be plotted while the y-axis shows the frequency distribution.\n",
    "#### Boxplots are also very beneficial when large numbers of data sets are involved or compared. \n",
    "#### In simple words, I can define the box plot in terms of descriptive statistics related concepts. \n",
    "#### That means box or whiskers plot is a method used for depicting groups of numerical data through their quartiles graphically."
   ]
  },
  {
   "cell_type": "code",
   "execution_count": 31,
   "metadata": {},
   "outputs": [
    {
     "data": {
      "text/plain": [
       "year                                 AxesSubplot(0.125,0.772143;0.352273x0.107857)\n",
       "brand                             AxesSubplot(0.547727,0.772143;0.352273x0.107857)\n",
       "cars_model                           AxesSubplot(0.125,0.642714;0.352273x0.107857)\n",
       "cars_variant                      AxesSubplot(0.547727,0.642714;0.352273x0.107857)\n",
       "cars_km_driven                       AxesSubplot(0.125,0.513286;0.352273x0.107857)\n",
       "car_installment_price_permonth    AxesSubplot(0.547727,0.513286;0.352273x0.107857)\n",
       "cars_downpayment                     AxesSubplot(0.125,0.383857;0.352273x0.107857)\n",
       "car_price                         AxesSubplot(0.547727,0.383857;0.352273x0.107857)\n",
       "dtype: object"
      ]
     },
     "execution_count": 31,
     "metadata": {},
     "output_type": "execute_result"
    },
    {
     "data": {
      "image/png": "[encoded data removed]",
      "text/plain": [
       "<Figure size 1440x1440 with 12 Axes>"
      ]
     },
     "metadata": {
      "needs_background": "light"
     },
     "output_type": "display_data"
    }
   ],
   "source": [
    "df.plot(kind='box',subplots=True,figsize=(20,20),layout=(6,2))"
   ]
  },
  {
   "cell_type": "markdown",
   "metadata": {},
   "source": [
    "#### From the above box plot I can see that some columns have outliers which I will remove soon."
   ]
  },
  {
   "cell_type": "markdown",
   "metadata": {},
   "source": [
    "## zscore"
   ]
  },
  {
   "cell_type": "markdown",
   "metadata": {},
   "source": [
    "#### The z score is also called the standard score represents the number of standard deviations with which the value of an observation point or data differ than the mean value of what is observed."
   ]
  },
  {
   "cell_type": "code",
   "execution_count": 33,
   "metadata": {},
   "outputs": [],
   "source": [
    "z_score = zscore(df[['car_price','car_installment_price_permonth','cars_km_driven']])\n",
    "abs_z_score = np.abs(z_score)\n",
    "\n",
    "filtering_entry = (abs_z_score < 3).all(axis=1)\n",
    "df = df[filtering_entry]"
   ]
  },
  {
   "cell_type": "code",
   "execution_count": 34,
   "metadata": {
    "scrolled": true
   },
   "outputs": [
    {
     "data": {
      "text/plain": [
       "(9209, 8)"
      ]
     },
     "execution_count": 34,
     "metadata": {},
     "output_type": "execute_result"
    }
   ],
   "source": [
    "df.shape"
   ]
  },
  {
   "cell_type": "markdown",
   "metadata": {},
   "source": [
    "#### I am using zscore to remove it by replacing the outliers with the continuous columns.\n",
    "#### And from shape I got 9209 rows which shows major of the outliers are cleaned."
   ]
  },
  {
   "cell_type": "markdown",
   "metadata": {},
   "source": [
    "## Checking the histogram after removing outliers."
   ]
  },
  {
   "cell_type": "code",
   "execution_count": 35,
   "metadata": {
    "scrolled": false
   },
   "outputs": [
    {
     "data": {
      "text/plain": [
       "array([[<AxesSubplot:title={'center':'brand'}>,\n",
       "        <AxesSubplot:title={'center':'cars_model'}>],\n",
       "       [<AxesSubplot:title={'center':'cars_variant'}>,\n",
       "        <AxesSubplot:title={'center':'cars_km_driven'}>],\n",
       "       [<AxesSubplot:title={'center':'car_installment_price_permonth'}>,\n",
       "        <AxesSubplot:title={'center':'cars_downpayment'}>],\n",
       "       [<AxesSubplot:title={'center':'car_price'}>, <AxesSubplot:>],\n",
       "       [<AxesSubplot:>, <AxesSubplot:>],\n",
       "       [<AxesSubplot:>, <AxesSubplot:>]], dtype=object)"
      ]
     },
     "execution_count": 35,
     "metadata": {},
     "output_type": "execute_result"
    },
    {
     "data": {
      "image/png": "[encoded data removed]",
      "text/plain": [
       "<Figure size 1440x1440 with 12 Axes>"
      ]
     },
     "metadata": {
      "needs_background": "light"
     },
     "output_type": "display_data"
    }
   ],
   "source": [
    "df.hist(figsize=(20,20),grid=True,layout=(6,2),bins=30)"
   ]
  },
  {
   "cell_type": "markdown",
   "metadata": {},
   "source": [
    "#### After Removing Skewness of most of the columns now it is perfectly distributed  for Model Building."
   ]
  },
  {
   "cell_type": "markdown",
   "metadata": {},
   "source": [
    "## Model Building"
   ]
  },
  {
   "cell_type": "markdown",
   "metadata": {},
   "source": [
    "#### A machine learning model is built by learning and generalizing from training data, then applying that acquired knowledge to new data it has never seen before to make predictions and fullfill its purpose. \n",
    "#### Lack of data will prevent you from building the model.\n",
    "#### Regression is a supervised machine learning technique which is used to predict continuous values."
   ]
  },
  {
   "cell_type": "markdown",
   "metadata": {},
   "source": [
    "#### To find out the relationship between all the input variable I have used correlation function and find out whether there is a positive/negative relationship between a pair of variables. \n",
    "#### It shows the correlation between different features and label."
   ]
  },
  {
   "cell_type": "code",
   "execution_count": 37,
   "metadata": {},
   "outputs": [],
   "source": [
    "# dividing features and label\n",
    "x = df.drop('car_price',axis=1)\n",
    "y = df.car_price"
   ]
  },
  {
   "cell_type": "markdown",
   "metadata": {},
   "source": [
    "#### Splitting the dataset into the features and label."
   ]
  },
  {
   "cell_type": "markdown",
   "metadata": {},
   "source": [
    "## Standard Scaler"
   ]
  },
  {
   "cell_type": "markdown",
   "metadata": {},
   "source": [
    "#### The scikit library provides various types of scalers above I will used the StandardScaler to scale the data."
   ]
  },
  {
   "cell_type": "code",
   "execution_count": 38,
   "metadata": {},
   "outputs": [
    {
     "data": {
      "text/plain": [
       "array([[ 0.04939955,  0.04691275,  0.94059467, ..., -1.42039242,\n",
       "        -0.52037546,  0.        ],\n",
       "       [ 0.04939955, -1.00686689, -0.94596907, ..., -1.38145259,\n",
       "         0.07872978,  0.        ],\n",
       "       [-1.00855503,  0.61896456,  0.97989808, ..., -1.06955141,\n",
       "        -0.8498001 ,  0.        ],\n",
       "       ...,\n",
       "       [-1.71385808, -1.36816276,  0.7047742 , ..., -0.49526411,\n",
       "        -0.7745189 ,  0.        ],\n",
       "       [-0.30325198, -1.81978261, -0.62171593, ...,  0.25443003,\n",
       "        -1.17663523,  0.        ],\n",
       "       [-1.00855503,  0.95015244, -1.26530929, ...,  2.18565416,\n",
       "         0.36672202,  0.        ]])"
      ]
     },
     "execution_count": 38,
     "metadata": {},
     "output_type": "execute_result"
    }
   ],
   "source": [
    "# standard scaler\n",
    "\n",
    "scaler = StandardScaler()\n",
    "x_scaled = scaler.fit_transform(x)\n",
    "x_scaled"
   ]
  },
  {
   "cell_type": "markdown",
   "metadata": {},
   "source": [
    "### VIF - variance inflation factor"
   ]
  },
  {
   "cell_type": "code",
   "execution_count": 39,
   "metadata": {
    "scrolled": true
   },
   "outputs": [
    {
     "name": "stderr",
     "output_type": "stream",
     "text": [
      "C:\\Users\\user\\anaconda3\\lib\\site-packages\\statsmodels\\regression\\linear_model.py:1717: RuntimeWarning: invalid value encountered in double_scalars\n",
      "  return 1 - self.ssr/self.uncentered_tss\n"
     ]
    },
    {
     "data": {
      "text/html": [
       "<div>\n",
       "<style scoped>\n",
       "    .dataframe tbody tr th:only-of-type {\n",
       "        vertical-align: middle;\n",
       "    }\n",
       "\n",
       "    .dataframe tbody tr th {\n",
       "        vertical-align: top;\n",
       "    }\n",
       "\n",
       "    .dataframe thead th {\n",
       "        text-align: right;\n",
       "    }\n",
       "</style>\n",
       "<table border=\"1\" class=\"dataframe\">\n",
       "  <thead>\n",
       "    <tr style=\"text-align: right;\">\n",
       "      <th></th>\n",
       "      <th>vif</th>\n",
       "      <th>Features</th>\n",
       "    </tr>\n",
       "  </thead>\n",
       "  <tbody>\n",
       "    <tr>\n",
       "      <th>0</th>\n",
       "      <td>1.997203</td>\n",
       "      <td>year</td>\n",
       "    </tr>\n",
       "    <tr>\n",
       "      <th>1</th>\n",
       "      <td>1.142847</td>\n",
       "      <td>brand</td>\n",
       "    </tr>\n",
       "    <tr>\n",
       "      <th>2</th>\n",
       "      <td>1.142968</td>\n",
       "      <td>cars_model</td>\n",
       "    </tr>\n",
       "    <tr>\n",
       "      <th>3</th>\n",
       "      <td>1.382204</td>\n",
       "      <td>cars_variant</td>\n",
       "    </tr>\n",
       "    <tr>\n",
       "      <th>4</th>\n",
       "      <td>1.650652</td>\n",
       "      <td>cars_km_driven</td>\n",
       "    </tr>\n",
       "    <tr>\n",
       "      <th>5</th>\n",
       "      <td>1.741130</td>\n",
       "      <td>car_installment_price_permonth</td>\n",
       "    </tr>\n",
       "    <tr>\n",
       "      <th>6</th>\n",
       "      <td>NaN</td>\n",
       "      <td>cars_downpayment</td>\n",
       "    </tr>\n",
       "  </tbody>\n",
       "</table>\n",
       "</div>"
      ],
      "text/plain": [
       "        vif                        Features\n",
       "0  1.997203                            year\n",
       "1  1.142847                           brand\n",
       "2  1.142968                      cars_model\n",
       "3  1.382204                    cars_variant\n",
       "4  1.650652                  cars_km_driven\n",
       "5  1.741130  car_installment_price_permonth\n",
       "6       NaN                cars_downpayment"
      ]
     },
     "execution_count": 39,
     "metadata": {},
     "output_type": "execute_result"
    }
   ],
   "source": [
    "# finding variance inflation factor(vif)\n",
    "\n",
    "vif = pd.DataFrame()\n",
    "vif[\"vif\"] = [variance_inflation_factor(x_scaled,i) for i in range (x_scaled.shape[1])]\n",
    "vif[\"Features\"] = x.columns\n",
    "vif"
   ]
  },
  {
   "cell_type": "markdown",
   "metadata": {},
   "source": [
    "##### By using Variance Inflation Factor(VIF) I can see that there is a strong relationship among many Features as values are greater than 5 which shows there is multi-collinearity exists."
   ]
  }
 ],
 "metadata": {
  "kernelspec": {
   "display_name": "Python 3",
   "language": "python",
   "name": "python3"
  },
  "language_info": {
   "codemirror_mode": {
    "name": "ipython",
    "version": 3
   },
   "file_extension": ".py",
   "mimetype": "text/x-python",
   "name": "python",
   "nbconvert_exporter": "python",
   "pygments_lexer": "ipython3",
   "version": "3.8.5"
  }
 },
 "nbformat": 4,
 "nbformat_minor": 4
}
